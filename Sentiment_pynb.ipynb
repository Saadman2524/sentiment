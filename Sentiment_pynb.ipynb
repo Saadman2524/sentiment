{
  "nbformat": 4,
  "nbformat_minor": 0,
  "metadata": {
    "colab": {
      "provenance": []
    },
    "kernelspec": {
      "name": "python3",
      "display_name": "Python 3"
    },
    "language_info": {
      "name": "python"
    }
  },
  "cells": [
    {
      "cell_type": "code",
      "source": [
        "!wget -O \"Toxic tweet dataset\" \"https://www.dropbox.com/s/rfyov7z5osuqg81/Toxic%20tweet%20dataset.csv?dl=0\""
      ],
      "metadata": {
        "colab": {
          "base_uri": "https://localhost:8080/"
        },
        "id": "qsMA8VjXAaga",
        "outputId": "4f2ecb71-5d7e-4e3d-f92d-29f84cc5307b"
      },
      "execution_count": null,
      "outputs": [
        {
          "output_type": "stream",
          "name": "stdout",
          "text": [
            "--2022-12-02 01:15:09--  https://www.dropbox.com/s/rfyov7z5osuqg81/Toxic%20tweet%20dataset.csv?dl=0\n",
            "Resolving www.dropbox.com (www.dropbox.com)... 162.125.81.18, 2620:100:6035:18::a27d:5512\n",
            "Connecting to www.dropbox.com (www.dropbox.com)|162.125.81.18|:443... connected.\n",
            "HTTP request sent, awaiting response... 302 Found\n",
            "Location: /s/raw/rfyov7z5osuqg81/Toxic%20tweet%20dataset.csv [following]\n",
            "--2022-12-02 01:15:09--  https://www.dropbox.com/s/raw/rfyov7z5osuqg81/Toxic%20tweet%20dataset.csv\n",
            "Reusing existing connection to www.dropbox.com:443.\n",
            "HTTP request sent, awaiting response... 302 Found\n",
            "Location: https://uc228fbc7074b28e81d1b443f202.dl.dropboxusercontent.com/cd/0/inline/Bx1PrpSjp03cVcYW7vl8tvJI5DyVl84m3qb0r1u1OcY60rGox1ONtXYT8UcuJbHmxhPyw-p2BfEihZBhH7b_pOgF0V4KhK_3s0aXToHBplbYP8bsreYUrweObktZM2b_kYybABK4ksuc4wQWlmvlhRaScI9Ml3UvMz5LGmcrRnl66g/file# [following]\n",
            "--2022-12-02 01:15:10--  https://uc228fbc7074b28e81d1b443f202.dl.dropboxusercontent.com/cd/0/inline/Bx1PrpSjp03cVcYW7vl8tvJI5DyVl84m3qb0r1u1OcY60rGox1ONtXYT8UcuJbHmxhPyw-p2BfEihZBhH7b_pOgF0V4KhK_3s0aXToHBplbYP8bsreYUrweObktZM2b_kYybABK4ksuc4wQWlmvlhRaScI9Ml3UvMz5LGmcrRnl66g/file\n",
            "Resolving uc228fbc7074b28e81d1b443f202.dl.dropboxusercontent.com (uc228fbc7074b28e81d1b443f202.dl.dropboxusercontent.com)... 162.125.85.15, 2620:100:6035:15::a27d:550f\n",
            "Connecting to uc228fbc7074b28e81d1b443f202.dl.dropboxusercontent.com (uc228fbc7074b28e81d1b443f202.dl.dropboxusercontent.com)|162.125.85.15|:443... connected.\n",
            "HTTP request sent, awaiting response... 200 OK\n",
            "Length: 5518854 (5.3M) [text/plain]\n",
            "Saving to: ‘Toxic tweet dataset’\n",
            "\n",
            "Toxic tweet dataset 100%[===================>]   5.26M  15.1MB/s    in 0.3s    \n",
            "\n",
            "2022-12-02 01:15:10 (15.1 MB/s) - ‘Toxic tweet dataset’ saved [5518854/5518854]\n",
            "\n"
          ]
        }
      ]
    },
    {
      "cell_type": "code",
      "source": [
        "\n",
        "import numpy as np\n",
        "import pandas as pd\n",
        "\n",
        "data = pd.read_csv(\"Toxic tweet dataset\", delimiter=\",\")\n",
        "data.head (30)"
      ],
      "metadata": {
        "colab": {
          "base_uri": "https://localhost:8080/",
          "height": 990
        },
        "id": "k9YYi47BU9qK",
        "outputId": "106fc8c9-dcaa-42ef-b145-08e9498833e1"
      },
      "execution_count": null,
      "outputs": [
        {
          "output_type": "execute_result",
          "data": {
            "text/plain": [
              "    Unnamed: 0  Toxicity                                              tweet\n",
              "0            0         0   @user when a father is dysfunctional and is s...\n",
              "1            1         0  @user @user thanks for #lyft credit i can't us...\n",
              "2            2         0                                bihday your majesty\n",
              "3            3         0  #model   i love u take with u all the time in ...\n",
              "4            4         0             factsguide: society now    #motivation\n",
              "5            5         0  [2/2] huge fan fare and big talking before the...\n",
              "6            6         0   @user camping tomorrow @user @user @user @use...\n",
              "7            7         0  the next school year is the year for exams.ð...\n",
              "8            8         0  we won!!! love the land!!! #allin #cavs #champ...\n",
              "9            9         0   @user @user welcome here !  i'm   it's so #gr...\n",
              "10          10         0   â #ireland consumer price index (mom) climb...\n",
              "11          11         0  we are so selfish. #orlando #standwithorlando ...\n",
              "12          12         0  i get to see my daddy today!!   #80days #getti...\n",
              "13          13         1  @user #cnn calls #michigan middle school 'buil...\n",
              "14          14         1  no comment!  in #australia   #opkillingbay #se...\n",
              "15          15         0  ouch...junior is angryð#got7 #junior #yugyo...\n",
              "16          16         0  i am thankful for having a paner. #thankful #p...\n",
              "17          17         1                             retweet if you agree! \n",
              "18          18         0  its #friday! ð smiles all around via ig use...\n",
              "19          19         0  as we all know, essential oils are not made of...\n",
              "20          20         0  #euro2016 people blaming ha for conceded goal ...\n",
              "21          21         0  sad little dude..   #badday #coneofshame #cats...\n",
              "22          22         0  product of the day: happy man #wine tool  who'...\n",
              "23          23         1    @user @user lumpy says i am a . prove it lumpy.\n",
              "24          24         0   @user #tgif   #ff to my #gamedev #indiedev #i...\n",
              "25          25         0  beautiful sign by vendor 80 for $45.00!! #upsi...\n",
              "26          26         0   @user all #smiles when #media is   !! ðð...\n",
              "27          27         0  we had a great panel on the mediatization of t...\n",
              "28          28         0        happy father's day @user ðððð  \n",
              "29          29         0  50 people went to nightclub to have a good nig..."
            ],
            "text/html": [
              "\n",
              "  <div id=\"df-586dce04-53e4-4d32-b6ec-e39a4a922ccc\">\n",
              "    <div class=\"colab-df-container\">\n",
              "      <div>\n",
              "<style scoped>\n",
              "    .dataframe tbody tr th:only-of-type {\n",
              "        vertical-align: middle;\n",
              "    }\n",
              "\n",
              "    .dataframe tbody tr th {\n",
              "        vertical-align: top;\n",
              "    }\n",
              "\n",
              "    .dataframe thead th {\n",
              "        text-align: right;\n",
              "    }\n",
              "</style>\n",
              "<table border=\"1\" class=\"dataframe\">\n",
              "  <thead>\n",
              "    <tr style=\"text-align: right;\">\n",
              "      <th></th>\n",
              "      <th>Unnamed: 0</th>\n",
              "      <th>Toxicity</th>\n",
              "      <th>tweet</th>\n",
              "    </tr>\n",
              "  </thead>\n",
              "  <tbody>\n",
              "    <tr>\n",
              "      <th>0</th>\n",
              "      <td>0</td>\n",
              "      <td>0</td>\n",
              "      <td>@user when a father is dysfunctional and is s...</td>\n",
              "    </tr>\n",
              "    <tr>\n",
              "      <th>1</th>\n",
              "      <td>1</td>\n",
              "      <td>0</td>\n",
              "      <td>@user @user thanks for #lyft credit i can't us...</td>\n",
              "    </tr>\n",
              "    <tr>\n",
              "      <th>2</th>\n",
              "      <td>2</td>\n",
              "      <td>0</td>\n",
              "      <td>bihday your majesty</td>\n",
              "    </tr>\n",
              "    <tr>\n",
              "      <th>3</th>\n",
              "      <td>3</td>\n",
              "      <td>0</td>\n",
              "      <td>#model   i love u take with u all the time in ...</td>\n",
              "    </tr>\n",
              "    <tr>\n",
              "      <th>4</th>\n",
              "      <td>4</td>\n",
              "      <td>0</td>\n",
              "      <td>factsguide: society now    #motivation</td>\n",
              "    </tr>\n",
              "    <tr>\n",
              "      <th>5</th>\n",
              "      <td>5</td>\n",
              "      <td>0</td>\n",
              "      <td>[2/2] huge fan fare and big talking before the...</td>\n",
              "    </tr>\n",
              "    <tr>\n",
              "      <th>6</th>\n",
              "      <td>6</td>\n",
              "      <td>0</td>\n",
              "      <td>@user camping tomorrow @user @user @user @use...</td>\n",
              "    </tr>\n",
              "    <tr>\n",
              "      <th>7</th>\n",
              "      <td>7</td>\n",
              "      <td>0</td>\n",
              "      <td>the next school year is the year for exams.ð...</td>\n",
              "    </tr>\n",
              "    <tr>\n",
              "      <th>8</th>\n",
              "      <td>8</td>\n",
              "      <td>0</td>\n",
              "      <td>we won!!! love the land!!! #allin #cavs #champ...</td>\n",
              "    </tr>\n",
              "    <tr>\n",
              "      <th>9</th>\n",
              "      <td>9</td>\n",
              "      <td>0</td>\n",
              "      <td>@user @user welcome here !  i'm   it's so #gr...</td>\n",
              "    </tr>\n",
              "    <tr>\n",
              "      <th>10</th>\n",
              "      <td>10</td>\n",
              "      <td>0</td>\n",
              "      <td>â #ireland consumer price index (mom) climb...</td>\n",
              "    </tr>\n",
              "    <tr>\n",
              "      <th>11</th>\n",
              "      <td>11</td>\n",
              "      <td>0</td>\n",
              "      <td>we are so selfish. #orlando #standwithorlando ...</td>\n",
              "    </tr>\n",
              "    <tr>\n",
              "      <th>12</th>\n",
              "      <td>12</td>\n",
              "      <td>0</td>\n",
              "      <td>i get to see my daddy today!!   #80days #getti...</td>\n",
              "    </tr>\n",
              "    <tr>\n",
              "      <th>13</th>\n",
              "      <td>13</td>\n",
              "      <td>1</td>\n",
              "      <td>@user #cnn calls #michigan middle school 'buil...</td>\n",
              "    </tr>\n",
              "    <tr>\n",
              "      <th>14</th>\n",
              "      <td>14</td>\n",
              "      <td>1</td>\n",
              "      <td>no comment!  in #australia   #opkillingbay #se...</td>\n",
              "    </tr>\n",
              "    <tr>\n",
              "      <th>15</th>\n",
              "      <td>15</td>\n",
              "      <td>0</td>\n",
              "      <td>ouch...junior is angryð#got7 #junior #yugyo...</td>\n",
              "    </tr>\n",
              "    <tr>\n",
              "      <th>16</th>\n",
              "      <td>16</td>\n",
              "      <td>0</td>\n",
              "      <td>i am thankful for having a paner. #thankful #p...</td>\n",
              "    </tr>\n",
              "    <tr>\n",
              "      <th>17</th>\n",
              "      <td>17</td>\n",
              "      <td>1</td>\n",
              "      <td>retweet if you agree!</td>\n",
              "    </tr>\n",
              "    <tr>\n",
              "      <th>18</th>\n",
              "      <td>18</td>\n",
              "      <td>0</td>\n",
              "      <td>its #friday! ð smiles all around via ig use...</td>\n",
              "    </tr>\n",
              "    <tr>\n",
              "      <th>19</th>\n",
              "      <td>19</td>\n",
              "      <td>0</td>\n",
              "      <td>as we all know, essential oils are not made of...</td>\n",
              "    </tr>\n",
              "    <tr>\n",
              "      <th>20</th>\n",
              "      <td>20</td>\n",
              "      <td>0</td>\n",
              "      <td>#euro2016 people blaming ha for conceded goal ...</td>\n",
              "    </tr>\n",
              "    <tr>\n",
              "      <th>21</th>\n",
              "      <td>21</td>\n",
              "      <td>0</td>\n",
              "      <td>sad little dude..   #badday #coneofshame #cats...</td>\n",
              "    </tr>\n",
              "    <tr>\n",
              "      <th>22</th>\n",
              "      <td>22</td>\n",
              "      <td>0</td>\n",
              "      <td>product of the day: happy man #wine tool  who'...</td>\n",
              "    </tr>\n",
              "    <tr>\n",
              "      <th>23</th>\n",
              "      <td>23</td>\n",
              "      <td>1</td>\n",
              "      <td>@user @user lumpy says i am a . prove it lumpy.</td>\n",
              "    </tr>\n",
              "    <tr>\n",
              "      <th>24</th>\n",
              "      <td>24</td>\n",
              "      <td>0</td>\n",
              "      <td>@user #tgif   #ff to my #gamedev #indiedev #i...</td>\n",
              "    </tr>\n",
              "    <tr>\n",
              "      <th>25</th>\n",
              "      <td>25</td>\n",
              "      <td>0</td>\n",
              "      <td>beautiful sign by vendor 80 for $45.00!! #upsi...</td>\n",
              "    </tr>\n",
              "    <tr>\n",
              "      <th>26</th>\n",
              "      <td>26</td>\n",
              "      <td>0</td>\n",
              "      <td>@user all #smiles when #media is   !! ðð...</td>\n",
              "    </tr>\n",
              "    <tr>\n",
              "      <th>27</th>\n",
              "      <td>27</td>\n",
              "      <td>0</td>\n",
              "      <td>we had a great panel on the mediatization of t...</td>\n",
              "    </tr>\n",
              "    <tr>\n",
              "      <th>28</th>\n",
              "      <td>28</td>\n",
              "      <td>0</td>\n",
              "      <td>happy father's day @user ðððð</td>\n",
              "    </tr>\n",
              "    <tr>\n",
              "      <th>29</th>\n",
              "      <td>29</td>\n",
              "      <td>0</td>\n",
              "      <td>50 people went to nightclub to have a good nig...</td>\n",
              "    </tr>\n",
              "  </tbody>\n",
              "</table>\n",
              "</div>\n",
              "      <button class=\"colab-df-convert\" onclick=\"convertToInteractive('df-586dce04-53e4-4d32-b6ec-e39a4a922ccc')\"\n",
              "              title=\"Convert this dataframe to an interactive table.\"\n",
              "              style=\"display:none;\">\n",
              "        \n",
              "  <svg xmlns=\"http://www.w3.org/2000/svg\" height=\"24px\"viewBox=\"0 0 24 24\"\n",
              "       width=\"24px\">\n",
              "    <path d=\"M0 0h24v24H0V0z\" fill=\"none\"/>\n",
              "    <path d=\"M18.56 5.44l.94 2.06.94-2.06 2.06-.94-2.06-.94-.94-2.06-.94 2.06-2.06.94zm-11 1L8.5 8.5l.94-2.06 2.06-.94-2.06-.94L8.5 2.5l-.94 2.06-2.06.94zm10 10l.94 2.06.94-2.06 2.06-.94-2.06-.94-.94-2.06-.94 2.06-2.06.94z\"/><path d=\"M17.41 7.96l-1.37-1.37c-.4-.4-.92-.59-1.43-.59-.52 0-1.04.2-1.43.59L10.3 9.45l-7.72 7.72c-.78.78-.78 2.05 0 2.83L4 21.41c.39.39.9.59 1.41.59.51 0 1.02-.2 1.41-.59l7.78-7.78 2.81-2.81c.8-.78.8-2.07 0-2.86zM5.41 20L4 18.59l7.72-7.72 1.47 1.35L5.41 20z\"/>\n",
              "  </svg>\n",
              "      </button>\n",
              "      \n",
              "  <style>\n",
              "    .colab-df-container {\n",
              "      display:flex;\n",
              "      flex-wrap:wrap;\n",
              "      gap: 12px;\n",
              "    }\n",
              "\n",
              "    .colab-df-convert {\n",
              "      background-color: #E8F0FE;\n",
              "      border: none;\n",
              "      border-radius: 50%;\n",
              "      cursor: pointer;\n",
              "      display: none;\n",
              "      fill: #1967D2;\n",
              "      height: 32px;\n",
              "      padding: 0 0 0 0;\n",
              "      width: 32px;\n",
              "    }\n",
              "\n",
              "    .colab-df-convert:hover {\n",
              "      background-color: #E2EBFA;\n",
              "      box-shadow: 0px 1px 2px rgba(60, 64, 67, 0.3), 0px 1px 3px 1px rgba(60, 64, 67, 0.15);\n",
              "      fill: #174EA6;\n",
              "    }\n",
              "\n",
              "    [theme=dark] .colab-df-convert {\n",
              "      background-color: #3B4455;\n",
              "      fill: #D2E3FC;\n",
              "    }\n",
              "\n",
              "    [theme=dark] .colab-df-convert:hover {\n",
              "      background-color: #434B5C;\n",
              "      box-shadow: 0px 1px 3px 1px rgba(0, 0, 0, 0.15);\n",
              "      filter: drop-shadow(0px 1px 2px rgba(0, 0, 0, 0.3));\n",
              "      fill: #FFFFFF;\n",
              "    }\n",
              "  </style>\n",
              "\n",
              "      <script>\n",
              "        const buttonEl =\n",
              "          document.querySelector('#df-586dce04-53e4-4d32-b6ec-e39a4a922ccc button.colab-df-convert');\n",
              "        buttonEl.style.display =\n",
              "          google.colab.kernel.accessAllowed ? 'block' : 'none';\n",
              "\n",
              "        async function convertToInteractive(key) {\n",
              "          const element = document.querySelector('#df-586dce04-53e4-4d32-b6ec-e39a4a922ccc');\n",
              "          const dataTable =\n",
              "            await google.colab.kernel.invokeFunction('convertToInteractive',\n",
              "                                                     [key], {});\n",
              "          if (!dataTable) return;\n",
              "\n",
              "          const docLinkHtml = 'Like what you see? Visit the ' +\n",
              "            '<a target=\"_blank\" href=https://colab.research.google.com/notebooks/data_table.ipynb>data table notebook</a>'\n",
              "            + ' to learn more about interactive tables.';\n",
              "          element.innerHTML = '';\n",
              "          dataTable['output_type'] = 'display_data';\n",
              "          await google.colab.output.renderOutput(dataTable, element);\n",
              "          const docLink = document.createElement('div');\n",
              "          docLink.innerHTML = docLinkHtml;\n",
              "          element.appendChild(docLink);\n",
              "        }\n",
              "      </script>\n",
              "    </div>\n",
              "  </div>\n",
              "  "
            ]
          },
          "metadata": {},
          "execution_count": 12
        }
      ]
    },
    {
      "cell_type": "code",
      "source": [],
      "metadata": {
        "id": "hjGUIMEU_BKf"
      },
      "execution_count": null,
      "outputs": []
    },
    {
      "cell_type": "code",
      "source": [
        "##step 3 - continues\n",
        "X= data [\"tweet\"]\n",
        "Y= data [\"Toxicity\"]"
      ],
      "metadata": {
        "id": "HxHFF-Sk6s40"
      },
      "execution_count": null,
      "outputs": []
    },
    {
      "cell_type": "code",
      "source": [
        "from sklearn.model_selection import train_test_split"
      ],
      "metadata": {
        "id": "cFh0llI-BYFA"
      },
      "execution_count": null,
      "outputs": []
    },
    {
      "cell_type": "code",
      "source": [
        "X_train, X_test, Y_train, Y_test = train_test_split (X, Y, test_size=0.4, random_state=101)"
      ],
      "metadata": {
        "id": "yToLzexdBbo2"
      },
      "execution_count": null,
      "outputs": []
    },
    {
      "cell_type": "code",
      "source": [
        "from sklearn.feature_extraction.text import CountVectorizer"
      ],
      "metadata": {
        "id": "8bhCeOPXBhnZ"
      },
      "execution_count": null,
      "outputs": []
    },
    {
      "cell_type": "code",
      "source": [
        "count_vect = CountVectorizer ()\n",
        "Count_vect = count_vect.fit(X_train)\n",
        "X_train_count = count_vect.transform(X_train)\n",
        "print (X_train_count)"
      ],
      "metadata": {
        "colab": {
          "base_uri": "https://localhost:8080/"
        },
        "id": "wqyiC58ABkO2",
        "outputId": "94461fc1-7421-4357-b6ae-ef63ad366663"
      },
      "execution_count": null,
      "outputs": [
        {
          "output_type": "stream",
          "name": "stdout",
          "text": [
            "  (0, 2884)\t1\n",
            "  (0, 3322)\t1\n",
            "  (0, 3452)\t1\n",
            "  (0, 4338)\t1\n",
            "  (0, 6704)\t1\n",
            "  (0, 9763)\t1\n",
            "  (0, 11251)\t1\n",
            "  (0, 15132)\t1\n",
            "  (0, 21051)\t1\n",
            "  (0, 23030)\t1\n",
            "  (0, 29127)\t1\n",
            "  (0, 32551)\t1\n",
            "  (0, 38673)\t1\n",
            "  (0, 39006)\t1\n",
            "  (0, 42465)\t1\n",
            "  (0, 43139)\t1\n",
            "  (0, 45544)\t1\n",
            "  (0, 46733)\t1\n",
            "  (1, 3394)\t1\n",
            "  (1, 3452)\t1\n",
            "  (1, 16108)\t1\n",
            "  (1, 16190)\t1\n",
            "  (1, 17871)\t1\n",
            "  (1, 17915)\t1\n",
            "  (1, 19104)\t1\n",
            "  :\t:\n",
            "  (34044, 35311)\t1\n",
            "  (34044, 37293)\t1\n",
            "  (34044, 45641)\t1\n",
            "  (34045, 5975)\t1\n",
            "  (34045, 6362)\t1\n",
            "  (34045, 7779)\t1\n",
            "  (34045, 8496)\t1\n",
            "  (34045, 15273)\t1\n",
            "  (34045, 17758)\t1\n",
            "  (34045, 19104)\t1\n",
            "  (34045, 26000)\t1\n",
            "  (34045, 28026)\t1\n",
            "  (34045, 28696)\t1\n",
            "  (34045, 32941)\t1\n",
            "  (34045, 34032)\t1\n",
            "  (34045, 40152)\t1\n",
            "  (34045, 42465)\t1\n",
            "  (34045, 44251)\t1\n",
            "  (34046, 4682)\t1\n",
            "  (34046, 6136)\t1\n",
            "  (34046, 21051)\t1\n",
            "  (34046, 33872)\t1\n",
            "  (34046, 37677)\t1\n",
            "  (34046, 42389)\t1\n",
            "  (34046, 47318)\t2\n"
          ]
        }
      ]
    },
    {
      "cell_type": "code",
      "source": [
        "from sklearn.naive_bayes import MultinomialNB\n",
        "classifier = MultinomialNB()\n",
        "\n"
      ],
      "metadata": {
        "id": "VUERRcOuBmwT"
      },
      "execution_count": null,
      "outputs": []
    },
    {
      "cell_type": "code",
      "source": [
        "classifier.fit(X_train_count, Y_train)\n",
        "MultinomialNB"
      ],
      "metadata": {
        "colab": {
          "base_uri": "https://localhost:8080/"
        },
        "id": "BuX_FIlSBsru",
        "outputId": "f1c9393a-4f4e-4141-c447-d357369f14d0"
      },
      "execution_count": null,
      "outputs": [
        {
          "output_type": "execute_result",
          "data": {
            "text/plain": [
              "sklearn.naive_bayes.MultinomialNB"
            ]
          },
          "metadata": {},
          "execution_count": 19
        }
      ]
    },
    {
      "cell_type": "code",
      "source": [
        "X_test_count = count_vect.transform(X_test)\n",
        "predicted = classifier.predict(X_test_count)\n",
        "\n",
        "acc = np.mean(predicted == Y_test) *100\n",
        "print (\"Accuracy\", acc)\n",
        "\n",
        "from sklearn.metrics import accuracy_score, precision_score, recall_score, f1_score\n",
        "\n"
      ],
      "metadata": {
        "colab": {
          "base_uri": "https://localhost:8080/"
        },
        "id": "KfyHAaE-BvQ0",
        "outputId": "63ed3ec8-9c47-4e1e-8945-72517fbe8c1e"
      },
      "execution_count": null,
      "outputs": [
        {
          "output_type": "stream",
          "name": "stdout",
          "text": [
            "Accuracy 91.72173759802625\n"
          ]
        }
      ]
    },
    {
      "cell_type": "code",
      "source": [
        "test_text = [\"\"\"white lives matter\"\"\"]\n",
        "test_text_count = count_vect.transform(test_text)\n",
        "classifier.predict(test_text_count)\n"
      ],
      "metadata": {
        "colab": {
          "base_uri": "https://localhost:8080/"
        },
        "id": "_uLVPjtIBzN9",
        "outputId": "ffb3ff95-b650-453d-9e66-c18f0651a8df"
      },
      "execution_count": null,
      "outputs": [
        {
          "output_type": "execute_result",
          "data": {
            "text/plain": [
              "array([1])"
            ]
          },
          "metadata": {},
          "execution_count": 90
        }
      ]
    }
  ]
}